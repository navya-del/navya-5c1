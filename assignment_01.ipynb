{
  "cells": [
    {
      "cell_type": "markdown",
      "metadata": {
        "id": "view-in-github",
        "colab_type": "text"
      },
      "source": [
        "<a href=\"https://colab.research.google.com/github/navya-del/navya-5c1/blob/main/assignment_01.ipynb\" target=\"_parent\"><img src=\"https://colab.research.google.com/assets/colab-badge.svg\" alt=\"Open In Colab\"/></a>"
      ]
    },
    {
      "cell_type": "markdown",
      "id": "548b84c2-e24f-4a12-98bb-5e7bd5ec86bd",
      "metadata": {
        "id": "548b84c2-e24f-4a12-98bb-5e7bd5ec86bd"
      },
      "source": [
        "# Python"
      ]
    },
    {
      "cell_type": "markdown",
      "id": "99fbfc45-ba9e-4766-8219-f5dbcacc8481",
      "metadata": {
        "id": "99fbfc45-ba9e-4766-8219-f5dbcacc8481"
      },
      "source": [
        "<a target=\"_blank\" href=\"https://colab.research.google.com/github/kgsb24/rishi-college/blob/main/assignments/Assignment_01.ipynb\">\n",
        "  <img src=\"https://colab.research.google.com/assets/colab-badge.svg\" alt=\"Open In Colab\"/>\n",
        "</a>"
      ]
    },
    {
      "cell_type": "markdown",
      "id": "07a1f870-f905-4703-8b65-12e83172133a",
      "metadata": {
        "id": "07a1f870-f905-4703-8b65-12e83172133a"
      },
      "source": [
        "## Basic Python Fundamentals"
      ]
    },
    {
      "cell_type": "code",
      "execution_count": null,
      "id": "502e1d87-2fdd-4588-a330-2af21268215e",
      "metadata": {
        "colab": {
          "base_uri": "https://localhost:8080/"
        },
        "id": "502e1d87-2fdd-4588-a330-2af21268215e",
        "outputId": "6f2e5c84-6de7-4a3f-cfec-1ffb2579ee7b"
      },
      "outputs": [
        {
          "output_type": "execute_result",
          "data": {
            "text/plain": [
              "int"
            ]
          },
          "metadata": {},
          "execution_count": 3
        }
      ],
      "source": [
        "# Write a Python program to declare a variable x with the value 10 and print its type.\n",
        "x=10\n",
        "type(x)"
      ]
    },
    {
      "cell_type": "code",
      "execution_count": null,
      "id": "dae77579-4b7d-4f06-96e0-7bdfe43860d7",
      "metadata": {
        "id": "dae77579-4b7d-4f06-96e0-7bdfe43860d7",
        "colab": {
          "base_uri": "https://localhost:8080/"
        },
        "outputId": "cb5d4aca-44d0-4090-8ee1-c36c63c4c6e1"
      },
      "outputs": [
        {
          "output_type": "stream",
          "name": "stdout",
          "text": [
            "30\n"
          ]
        }
      ],
      "source": [
        "# Write a Python program to declare three variables a = 5, b = 10, and c = 15, and print their sum.\n",
        "a=5\n",
        "b=10\n",
        "c=15\n",
        "print(a+b+c)\n"
      ]
    },
    {
      "cell_type": "code",
      "execution_count": null,
      "id": "c32867b2-a615-426a-89ae-bd2793b6a4dc",
      "metadata": {
        "id": "c32867b2-a615-426a-89ae-bd2793b6a4dc",
        "colab": {
          "base_uri": "https://localhost:8080/"
        },
        "outputId": "ec7373e5-dcd5-4322-8e52-fa5dca0b98da"
      },
      "outputs": [
        {
          "output_type": "execute_result",
          "data": {
            "text/plain": [
              "str"
            ]
          },
          "metadata": {},
          "execution_count": 2
        }
      ],
      "source": [
        "# Write a Python program that checks and prints the type of a variable (e.g., int, float, str, etc.).\n",
        "name=\"kartheeka\"\n",
        "type(name)"
      ]
    },
    {
      "cell_type": "code",
      "execution_count": null,
      "id": "8b233e41-9d44-4869-9ead-afb3ff1c0b67",
      "metadata": {
        "id": "8b233e41-9d44-4869-9ead-afb3ff1c0b67",
        "colab": {
          "base_uri": "https://localhost:8080/"
        },
        "outputId": "1af89332-a1ab-46b0-fa2a-13d194fc21f9"
      },
      "outputs": [
        {
          "output_type": "stream",
          "name": "stdout",
          "text": [
            "addition: 15\n",
            "subtraction: -5\n",
            "multiplication: 50\n",
            "division: 0.5\n"
          ]
        }
      ],
      "source": [
        "# Write a Python program to perform addition, subtraction, multiplication, and division on two numbers. (User input is required for the numbers)\n",
        "print(\"addition:\",a+b)\n",
        "print(\"subtraction:\",a-b)\n",
        "print(\"multiplication:\",a*b)\n",
        "print(\"division:\",a/b)"
      ]
    },
    {
      "cell_type": "code",
      "execution_count": null,
      "id": "629435bd-6bfa-44de-91d9-3b2937713257",
      "metadata": {
        "id": "629435bd-6bfa-44de-91d9-3b2937713257",
        "colab": {
          "base_uri": "https://localhost:8080/"
        },
        "outputId": "d2dea7f2-d902-42fd-b5f7-20e684c6801e"
      },
      "outputs": [
        {
          "output_type": "stream",
          "name": "stdout",
          "text": [
            "123\n",
            "123.0\n"
          ]
        }
      ],
      "source": [
        "# Write a Python program to convert a string \"123\" to an integer and a float and print the results.\n",
        "x=\"123\"\n",
        "print(int(x))\n",
        "print(float(x))"
      ]
    },
    {
      "cell_type": "code",
      "execution_count": null,
      "id": "599421f1-51c1-4653-9d78-b007fcc6861b",
      "metadata": {
        "id": "599421f1-51c1-4653-9d78-b007fcc6861b",
        "colab": {
          "base_uri": "https://localhost:8080/"
        },
        "outputId": "00a62afe-ad84-49b8-9256-cdf74d6e63f6"
      },
      "outputs": [
        {
          "output_type": "stream",
          "name": "stdout",
          "text": [
            "h\n"
          ]
        }
      ],
      "source": [
        "# Write a Python program to print the first character of a given string. (User input for the string)\n",
        "a=\"hello\"\n",
        "print(a[0])"
      ]
    },
    {
      "cell_type": "code",
      "execution_count": null,
      "id": "54ee0a5d-415f-40b6-b82e-c0de12a002f9",
      "metadata": {
        "id": "54ee0a5d-415f-40b6-b82e-c0de12a002f9",
        "colab": {
          "base_uri": "https://localhost:8080/"
        },
        "outputId": "81933fd6-e409-4aac-b8ce-d8fecd8e2ad5"
      },
      "outputs": [
        {
          "output_type": "stream",
          "name": "stdout",
          "text": [
            "5\n"
          ]
        }
      ],
      "source": [
        "# Write a Python program to print the length of a string. (User input for the string)\n",
        "a=\"hello\"\n",
        "print(len(a))"
      ]
    },
    {
      "cell_type": "code",
      "execution_count": null,
      "id": "65f44c33-618e-4337-a9d1-9de888c93a0a",
      "metadata": {
        "id": "65f44c33-618e-4337-a9d1-9de888c93a0a",
        "colab": {
          "base_uri": "https://localhost:8080/"
        },
        "outputId": "b74a48e8-d94c-4c41-9f3f-2dd28a904180"
      },
      "outputs": [
        {
          "output_type": "stream",
          "name": "stdout",
          "text": [
            "True\n"
          ]
        }
      ],
      "source": [
        "# Write a Python program to check if a given string contains only alphabets.\n",
        "a=\"hello\"\n",
        "print(a.isalpha())"
      ]
    },
    {
      "cell_type": "code",
      "execution_count": null,
      "id": "37463128-2b51-4860-b6bf-40d3c03fbe84",
      "metadata": {
        "id": "37463128-2b51-4860-b6bf-40d3c03fbe84",
        "colab": {
          "base_uri": "https://localhost:8080/"
        },
        "outputId": "508e483a-c9b6-4863-ffa3-642e997f7ff6"
      },
      "outputs": [
        {
          "output_type": "stream",
          "name": "stdout",
          "text": [
            "helloworld\n"
          ]
        }
      ],
      "source": [
        "# Write a Python program to concatenate two strings. (User input for the strings)\n",
        "a=\"hello\"\n",
        "b=\"world\"\n",
        "print(a+b)"
      ]
    },
    {
      "cell_type": "code",
      "execution_count": null,
      "id": "b1c5d364-eccf-473a-b03a-ab15f3e917cf",
      "metadata": {
        "id": "b1c5d364-eccf-473a-b03a-ab15f3e917cf",
        "colab": {
          "base_uri": "https://localhost:8080/"
        },
        "outputId": "b9d037e1-e9e4-4ab4-c7b1-9887efd606d8"
      },
      "outputs": [
        {
          "output_type": "stream",
          "name": "stdout",
          "text": [
            "Enter a string: 1\n",
            "The substring 'abc' is not found in the string.\n"
          ]
        }
      ],
      "source": [
        "# Write a Python program to find the index of a substring \"abc\" in a string. (User input for the string)\n",
        "# Get the string from the user\n",
        "user_string = input(\"Enter a string: \")\n",
        "\n",
        "# Substring to find\n",
        "substring = \"abc\"\n",
        "\n",
        "# Find the index of the substring\n",
        "index = user_string.find(substring)\n",
        "\n",
        "if index != -1:\n",
        "    print(f\"The substring '{substring}' is found at index {index}.\")\n",
        "else:\n",
        "    print(f\"The substring '{substring}' is not found in the string.\")"
      ]
    },
    {
      "cell_type": "code",
      "source": [],
      "metadata": {
        "id": "V_YeHwxWgKiu"
      },
      "id": "V_YeHwxWgKiu",
      "execution_count": null,
      "outputs": []
    },
    {
      "cell_type": "code",
      "execution_count": null,
      "id": "cc92afd9-ba4b-4934-a79d-f26825b4efc2",
      "metadata": {
        "id": "cc92afd9-ba4b-4934-a79d-f26825b4efc2",
        "colab": {
          "base_uri": "https://localhost:8080/"
        },
        "outputId": "6a64aa7f-2d52-4850-bd6c-7dd272abf8b7"
      },
      "outputs": [
        {
          "output_type": "stream",
          "name": "stdout",
          "text": [
            "Enter a string: \"Hello\"\n",
            "Original String: \"Hello\"\n",
            "Uppercase: \"HELLO\"\n",
            "Lowercase: \"hello\"\n"
          ]
        }
      ],
      "source": [
        "\n",
        "\n",
        "# Write a Python program to convert a string to both uppercase and lowercase. (User input for the string)\n",
        "# Get the string from the user\n",
        "user_string = input(\"Enter a string: \")\n",
        "\n",
        "# Convert the string to uppercase\n",
        "uppercase_string = user_string.upper()\n",
        "\n",
        "# Convert the string to lowercase\n",
        "lowercase_string = user_string.lower()\n",
        "\n",
        "# Display the results\n",
        "print(f\"Original String: {user_string}\")\n",
        "print(f\"Uppercase: {uppercase_string}\")\n",
        "print(f\"Lowercase: {lowercase_string}\")"
      ]
    },
    {
      "cell_type": "code",
      "execution_count": null,
      "id": "f24f79b3-da8b-44bf-8310-c68442e86e3e",
      "metadata": {
        "id": "f24f79b3-da8b-44bf-8310-c68442e86e3e",
        "outputId": "8aff9b4e-eec2-4747-8015-69e754b780a6",
        "colab": {
          "base_uri": "https://localhost:8080/",
          "height": 738
        }
      },
      "outputs": [
        {
          "output_type": "error",
          "ename": "KeyboardInterrupt",
          "evalue": "Interrupted by user",
          "traceback": [
            "\u001b[0;31m---------------------------------------------------------------------------\u001b[0m",
            "\u001b[0;31mKeyboardInterrupt\u001b[0m                         Traceback (most recent call last)",
            "\u001b[0;32m<ipython-input-5-5613206e0bd9>\u001b[0m in \u001b[0;36m<cell line: 3>\u001b[0;34m()\u001b[0m\n\u001b[1;32m      1\u001b[0m \u001b[0;31m# Write a Python program to count how many times a particular character appears in a string. (User input for string and character)\u001b[0m\u001b[0;34m\u001b[0m\u001b[0;34m\u001b[0m\u001b[0m\n\u001b[1;32m      2\u001b[0m \u001b[0;31m# Get the string from the user\u001b[0m\u001b[0;34m\u001b[0m\u001b[0;34m\u001b[0m\u001b[0m\n\u001b[0;32m----> 3\u001b[0;31m \u001b[0muser_string\u001b[0m \u001b[0;34m=\u001b[0m \u001b[0minput\u001b[0m\u001b[0;34m(\u001b[0m\u001b[0;34m\"Enter a string: \"\u001b[0m\u001b[0;34m)\u001b[0m\u001b[0;34m\u001b[0m\u001b[0;34m\u001b[0m\u001b[0m\n\u001b[0m\u001b[1;32m      4\u001b[0m \u001b[0;34m\u001b[0m\u001b[0m\n\u001b[1;32m      5\u001b[0m \u001b[0;31m# Get the character to count from the user\u001b[0m\u001b[0;34m\u001b[0m\u001b[0;34m\u001b[0m\u001b[0m\n",
            "\u001b[0;32m/usr/local/lib/python3.10/dist-packages/ipykernel/kernelbase.py\u001b[0m in \u001b[0;36mraw_input\u001b[0;34m(self, prompt)\u001b[0m\n\u001b[1;32m    849\u001b[0m                 \u001b[0;34m\"raw_input was called, but this frontend does not support input requests.\"\u001b[0m\u001b[0;34m\u001b[0m\u001b[0;34m\u001b[0m\u001b[0m\n\u001b[1;32m    850\u001b[0m             )\n\u001b[0;32m--> 851\u001b[0;31m         return self._input_request(str(prompt),\n\u001b[0m\u001b[1;32m    852\u001b[0m             \u001b[0mself\u001b[0m\u001b[0;34m.\u001b[0m\u001b[0m_parent_ident\u001b[0m\u001b[0;34m,\u001b[0m\u001b[0;34m\u001b[0m\u001b[0;34m\u001b[0m\u001b[0m\n\u001b[1;32m    853\u001b[0m             \u001b[0mself\u001b[0m\u001b[0;34m.\u001b[0m\u001b[0m_parent_header\u001b[0m\u001b[0;34m,\u001b[0m\u001b[0;34m\u001b[0m\u001b[0;34m\u001b[0m\u001b[0m\n",
            "\u001b[0;32m/usr/local/lib/python3.10/dist-packages/ipykernel/kernelbase.py\u001b[0m in \u001b[0;36m_input_request\u001b[0;34m(self, prompt, ident, parent, password)\u001b[0m\n\u001b[1;32m    893\u001b[0m             \u001b[0;32mexcept\u001b[0m \u001b[0mKeyboardInterrupt\u001b[0m\u001b[0;34m:\u001b[0m\u001b[0;34m\u001b[0m\u001b[0;34m\u001b[0m\u001b[0m\n\u001b[1;32m    894\u001b[0m                 \u001b[0;31m# re-raise KeyboardInterrupt, to truncate traceback\u001b[0m\u001b[0;34m\u001b[0m\u001b[0;34m\u001b[0m\u001b[0m\n\u001b[0;32m--> 895\u001b[0;31m                 \u001b[0;32mraise\u001b[0m \u001b[0mKeyboardInterrupt\u001b[0m\u001b[0;34m(\u001b[0m\u001b[0;34m\"Interrupted by user\"\u001b[0m\u001b[0;34m)\u001b[0m \u001b[0;32mfrom\u001b[0m \u001b[0;32mNone\u001b[0m\u001b[0;34m\u001b[0m\u001b[0;34m\u001b[0m\u001b[0m\n\u001b[0m\u001b[1;32m    896\u001b[0m             \u001b[0;32mexcept\u001b[0m \u001b[0mException\u001b[0m \u001b[0;32mas\u001b[0m \u001b[0me\u001b[0m\u001b[0;34m:\u001b[0m\u001b[0;34m\u001b[0m\u001b[0;34m\u001b[0m\u001b[0m\n\u001b[1;32m    897\u001b[0m                 \u001b[0mself\u001b[0m\u001b[0;34m.\u001b[0m\u001b[0mlog\u001b[0m\u001b[0;34m.\u001b[0m\u001b[0mwarning\u001b[0m\u001b[0;34m(\u001b[0m\u001b[0;34m\"Invalid Message:\"\u001b[0m\u001b[0;34m,\u001b[0m \u001b[0mexc_info\u001b[0m\u001b[0;34m=\u001b[0m\u001b[0;32mTrue\u001b[0m\u001b[0;34m)\u001b[0m\u001b[0;34m\u001b[0m\u001b[0;34m\u001b[0m\u001b[0m\n",
            "\u001b[0;31mKeyboardInterrupt\u001b[0m: Interrupted by user"
          ]
        }
      ],
      "source": [
        "\n",
        "# Write a Python program to count how many times a particular character appears in a string. (User input for string and character)\n",
        "user_string = input(\"Enter a string: \")\n",
        "\n",
        "character = input(\"Enter the character to count: \")\n",
        "\n",
        "# Validate that the input character is a single character\n",
        "if len(character) != 1:\n",
        "    print(\"Please enter a single character.\")\n",
        "else:\n",
        "    # Count the occurrences of the character in the string\n",
        "    count = user_string.count(character)\n",
        "    print(f\"The character '{character}' appears {count} time(s) in the string.\")"
      ]
    },
    {
      "cell_type": "code",
      "source": [],
      "metadata": {
        "id": "jlBPusYYiOdg"
      },
      "id": "jlBPusYYiOdg",
      "execution_count": null,
      "outputs": []
    },
    {
      "cell_type": "markdown",
      "source": [],
      "metadata": {
        "id": "NaZJcVHHiKHp"
      },
      "id": "NaZJcVHHiKHp"
    },
    {
      "cell_type": "code",
      "execution_count": null,
      "id": "f2e8f25c-5c34-44eb-b749-7cc4c100b9a8",
      "metadata": {
        "id": "f2e8f25c-5c34-44eb-b749-7cc4c100b9a8",
        "outputId": "9c49eb93-f1fa-447a-933b-5cc10dafbfb6",
        "colab": {
          "base_uri": "https://localhost:8080/",
          "height": 228
        }
      },
      "outputs": [
        {
          "output_type": "error",
          "ename": "SyntaxError",
          "evalue": "unterminated string literal (detected at line 6) (<ipython-input-6-15324b34d887>, line 6)",
          "traceback": [
            "\u001b[0;36m  File \u001b[0;32m\"<ipython-input-6-15324b34d887>\"\u001b[0;36m, line \u001b[0;32m6\u001b[0m\n\u001b[0;31m    print(f\"Hello, {name}, Good Morning!\") a Python program to take the user's name as input and print a personalized greeting. (Hello, username, Good Morning)\u001b[0m\n\u001b[0m                                                                            ^\u001b[0m\n\u001b[0;31mSyntaxError\u001b[0m\u001b[0;31m:\u001b[0m unterminated string literal (detected at line 6)\n"
          ]
        }
      ],
      "source": [
        "# # Get the user's name\n",
        "name = input(\"Enter your name: \")\n",
        "\n",
        "# Print a personalized greeting\n",
        "\n",
        "print(f\"Hello, {name}, Good Morning!\") a Python program to take the user's name as input and print a personalized greeting. (Hello, username, Good Morning)"
      ]
    },
    {
      "cell_type": "code",
      "source": [],
      "metadata": {
        "id": "Cjv9ArepjUsc"
      },
      "id": "Cjv9ArepjUsc",
      "execution_count": null,
      "outputs": []
    },
    {
      "cell_type": "code",
      "execution_count": null,
      "id": "189296cf-77e6-4f48-b010-77458da5bc9d",
      "metadata": {
        "id": "189296cf-77e6-4f48-b010-77458da5bc9d",
        "outputId": "7e1c0301-39b2-4b5d-b5c5-8cedd455b97e",
        "colab": {
          "base_uri": "https://localhost:8080/"
        }
      },
      "outputs": [
        {
          "output_type": "stream",
          "name": "stdout",
          "text": [
            "Enter the first number: 73\n",
            "Enter the second number: 82\n",
            "The sum of 73.0 and 82.0 is 155.0.\n"
          ]
        }
      ],
      "source": [
        "# Write a Python program to take two numbers as input and print their sum.\n",
        "# Get the first number from the user\n",
        "num1 = float(input(\"Enter the first number: \"))\n",
        "\n",
        "# Get the second number from the user\n",
        "num2 = float(input(\"Enter the second number: \"))\n",
        "\n",
        "# Calculate the sum\n",
        "sum_result = num1 + num2\n",
        "\n",
        "# Print the result\n",
        "print(f\"The sum of {num1} and {num2} is {sum_result}.\")"
      ]
    },
    {
      "cell_type": "code",
      "execution_count": null,
      "id": "0563b26c-0218-47b8-9035-98beb73b0931",
      "metadata": {
        "id": "0563b26c-0218-47b8-9035-98beb73b0931",
        "outputId": "60a61ca9-6103-4d78-e431-e4b0b22062a1",
        "colab": {
          "base_uri": "https://localhost:8080/"
        }
      },
      "outputs": [
        {
          "output_type": "stream",
          "name": "stdout",
          "text": [
            "Enter your name: Kartheeka\n",
            "Enter your age: 19\n",
            "Hello, Kartheeka! You are 19 years old.\n"
          ]
        }
      ],
      "source": [
        "\n",
        "\n",
        "# Write a Python program to format and display a string containing the user's name and age. (User input required)\n",
        "# Get the user's name\n",
        "name = input(\"Enter your name: \")\n",
        "\n",
        "# Get the user's age\n",
        "age = input(\"Enter your age: \")\n",
        "\n",
        "# Format and display the message\n",
        "print(f\"Hello, {name}! You are {age} years old.\")"
      ]
    },
    {
      "cell_type": "markdown",
      "id": "0bde6e5a-0415-4b06-8b5a-95fa252b34eb",
      "metadata": {
        "id": "0bde6e5a-0415-4b06-8b5a-95fa252b34eb"
      },
      "source": [
        "## Control Structures (Conditionals and Loops)"
      ]
    },
    {
      "cell_type": "code",
      "execution_count": null,
      "id": "aefff5f3-b61e-43e6-a458-7367ef1af9de",
      "metadata": {
        "id": "aefff5f3-b61e-43e6-a458-7367ef1af9de",
        "outputId": "f4aefd37-548c-47a2-ba90-e78d7b3f37fe",
        "colab": {
          "base_uri": "https://localhost:8080/"
        }
      },
      "outputs": [
        {
          "output_type": "stream",
          "name": "stdout",
          "text": [
            "Enter a number: 25\n",
            "The number is positive.\n"
          ]
        }
      ],
      "source": [
        "\n",
        "# Write a Python program that takes a number as input and checks whether it is positive, negative, or zero.\n",
        "# Get a number from the user\n",
        "number = float(input(\"Enter a number: \"))\n",
        "\n",
        "# Check if the number is positive, negative, or zero\n",
        "if number > 0:\n",
        "    print(\"The number is positive.\")\n",
        "elif number < 0:\n",
        "    print(\"The number is negative.\")\n",
        "else:\n",
        "    print(\"The number is zero.\")"
      ]
    },
    {
      "cell_type": "code",
      "execution_count": null,
      "id": "4dc6d14b-6d22-4348-859a-2a03f9be65f7",
      "metadata": {
        "id": "4dc6d14b-6d22-4348-859a-2a03f9be65f7",
        "outputId": "eb3928ec-f409-496a-f65f-da0a6774d366",
        "colab": {
          "base_uri": "https://localhost:8080/"
        }
      },
      "outputs": [
        {
          "output_type": "stream",
          "name": "stdout",
          "text": [
            "Enter the first number: 2\n",
            "Enter the second number: 8\n",
            "Enter the third number: 6\n",
            "The maximum of the three numbers is: 8.0\n"
          ]
        }
      ],
      "source": [
        "\n",
        "# Write a Python program to find the maximum of three numbers. (User input for the numbers)\n",
        "# Get three numbers from the user\n",
        "num1 = float(input(\"Enter the first number: \"))\n",
        "num2 = float(input(\"Enter the second number: \"))\n",
        "num3 = float(input(\"Enter the third number: \"))\n",
        "\n",
        "# Find the maximum number\n",
        "maximum = max(num1, num2, num3)\n",
        "\n",
        "# Display the result\n",
        "print(f\"The maximum of the three numbers is: {maximum}\")"
      ]
    },
    {
      "cell_type": "code",
      "execution_count": null,
      "id": "3f6d1f45-eb68-4142-89d6-510046f21879",
      "metadata": {
        "id": "3f6d1f45-eb68-4142-89d6-510046f21879",
        "outputId": "80836b2c-a352-4c20-8e2e-d4036178913a",
        "colab": {
          "base_uri": "https://localhost:8080/"
        }
      },
      "outputs": [
        {
          "output_type": "stream",
          "name": "stdout",
          "text": [
            "Enter a year: 1005\n",
            "1005 is not a leap year.\n"
          ]
        }
      ],
      "source": [
        "# Write a Python program to check if a year is a leap year. (User input for the year)\n",
        "# Get the year from the user\n",
        "year = int(input(\"Enter a year: \"))\n",
        "\n",
        "# Check if the year is a leap year\n",
        "if (year % 4 == 0 and year % 100 != 0) or (year % 400 == 0):\n",
        "    print(f\"{year} is a leap year.\")\n",
        "else:\n",
        "    print(f\"{year} is not a leap year.\")"
      ]
    },
    {
      "cell_type": "code",
      "execution_count": null,
      "id": "b6a07105-6fa5-4f70-b64b-ebd66afc3c2b",
      "metadata": {
        "id": "b6a07105-6fa5-4f70-b64b-ebd66afc3c2b",
        "colab": {
          "base_uri": "https://localhost:8080/"
        },
        "outputId": "66753210-8ee5-49ce-9767-09c00a5d64e4"
      },
      "outputs": [
        {
          "output_type": "stream",
          "name": "stdout",
          "text": [
            "Enter a number: 23\n",
            "23 is not divisible by both 3 and 5.\n"
          ]
        }
      ],
      "source": [
        "# Write a Python program to check if a number is divisible by both 3 and 5. (User input for the number)\n",
        "# Get user input\n",
        "num = int(input(\"Enter a number: \"))\n",
        "\n",
        "# Check if the number is divisible by both 3 and 5\n",
        "if num % 3 == 0 and num % 5 == 0:\n",
        "    print(f\"{num} is divisible by both 3 and 5.\")\n",
        "else:\n",
        "    print(f\"{num} is not divisible by both 3 and 5.\")\n"
      ]
    },
    {
      "cell_type": "code",
      "execution_count": null,
      "id": "d10c9005-b85d-42f9-81d0-65d149415888",
      "metadata": {
        "id": "d10c9005-b85d-42f9-81d0-65d149415888",
        "colab": {
          "base_uri": "https://localhost:8080/"
        },
        "outputId": "0c0b0fb9-7b99-404f-dbac-7ec2d41dbe73"
      },
      "outputs": [
        {
          "output_type": "stream",
          "name": "stdout",
          "text": [
            "Enter a string to check if it's a palindrome: \"yes\"\n",
            "No, it's not a palindrome.\n"
          ]
        }
      ],
      "source": [
        "# Write a Python program to check if a string is a palindrome. (User input for the string)\n",
        "# Function to check if a string is a palindrome\n",
        "def is_palindrome(s):\n",
        "    # Remove spaces and convert to lowercase for uniform comparison\n",
        "    s = s.replace(\" \", \"\").lower()\n",
        "    # Compare the string with its reverse\n",
        "    return s == s[::-1]\n",
        "\n",
        "# Get user input\n",
        "user_input = input(\"Enter a string to check if it's a palindrome: \")\n",
        "\n",
        "# Check if the input string is a palindrome\n",
        "if is_palindrome(user_input):\n",
        "    print(\"Yes, it's a palindrome.\")\n",
        "else:\n",
        "    print(\"No, it's not a palindrome.\")\n"
      ]
    },
    {
      "cell_type": "code",
      "execution_count": null,
      "id": "82d76cdf-efc6-45c6-ab09-9d1f17b3d857",
      "metadata": {
        "id": "82d76cdf-efc6-45c6-ab09-9d1f17b3d857",
        "colab": {
          "base_uri": "https://localhost:8080/"
        },
        "outputId": "9605eafe-5a53-48fb-cdc3-5daaa5c466c3"
      },
      "outputs": [
        {
          "output_type": "stream",
          "name": "stdout",
          "text": [
            "1\n",
            "2\n",
            "3\n",
            "4\n",
            "5\n",
            "6\n",
            "7\n",
            "8\n",
            "9\n",
            "10\n"
          ]
        }
      ],
      "source": [
        "# Write a Python program to print numbers from 1 to 10 using a for loop.\n",
        "# Using a for loop to print numbers from 1 to 10\n",
        "for number in range(1, 11):\n",
        "    print(number)\n"
      ]
    },
    {
      "cell_type": "code",
      "execution_count": null,
      "id": "d09e8994-e984-4c12-ab1e-1bfc6938a389",
      "metadata": {
        "id": "d09e8994-e984-4c12-ab1e-1bfc6938a389",
        "colab": {
          "base_uri": "https://localhost:8080/"
        },
        "outputId": "1a8d8a76-9f1f-4df3-c58d-114c41b73378"
      },
      "outputs": [
        {
          "output_type": "stream",
          "name": "stdout",
          "text": [
            "2\n",
            "4\n",
            "6\n",
            "8\n",
            "10\n",
            "12\n",
            "14\n",
            "16\n",
            "18\n",
            "20\n"
          ]
        }
      ],
      "source": [
        "# Write a Python program to print all even numbers from 1 to 20 using a while loop.\n",
        "# Initialize the starting number\n",
        "number = 2\n",
        "\n",
        "# Using a while loop to print even numbers from 1 to 20\n",
        "while number <= 20:\n",
        "    print(number)\n",
        "    number += 2  # Increment by 2 to get the next even number\n"
      ]
    },
    {
      "cell_type": "code",
      "execution_count": null,
      "id": "c09ca878-167e-49ca-97f0-247a43c9b472",
      "metadata": {
        "id": "c09ca878-167e-49ca-97f0-247a43c9b472"
      },
      "outputs": [],
      "source": [
        "#"
      ]
    },
    {
      "cell_type": "code",
      "execution_count": null,
      "id": "b72118ab-e62d-4af9-bcec-e1cc6af31b25",
      "metadata": {
        "id": "b72118ab-e62d-4af9-bcec-e1cc6af31b25",
        "colab": {
          "base_uri": "https://localhost:8080/"
        },
        "outputId": "5e229f9b-3956-454a-af22-f73cec464aa7"
      },
      "outputs": [
        {
          "output_type": "stream",
          "name": "stdout",
          "text": [
            "Prime numbers from 1 to 100 are:\n",
            "2 3 5 7 11 13 17 19 23 29 31 37 41 43 47 53 59 61 67 71 73 79 83 89 97 "
          ]
        }
      ],
      "source": [
        "# Write a Python program to calculate the sum of all numbers from 1 to n using a while loop. (User input for n)\n",
        "# Function to check if a number is prime\n",
        "def is_prime(num):\n",
        "    if num <= 1:\n",
        "        return False  # 1 and numbers less than 1 are not prime\n",
        "    for i in range(2, int(num**0.5) + 1):  # Check divisibility up to sqrt(num)\n",
        "        if num % i == 0:\n",
        "            return False  # If divisible, not a prime\n",
        "    return True\n",
        "\n",
        "# Loop to find and print prime numbers from 1 to 100\n",
        "print(\"Prime numbers from 1 to 100 are:\")\n",
        "for number in range(1, 101):\n",
        "    if is_prime(number):\n",
        "        print(number, end=\" \")\n"
      ]
    },
    {
      "cell_type": "code",
      "execution_count": null,
      "id": "ae93621f-11a2-40b7-97bc-3002f03ac36a",
      "metadata": {
        "id": "ae93621f-11a2-40b7-97bc-3002f03ac36a",
        "colab": {
          "base_uri": "https://localhost:8080/"
        },
        "outputId": "2e4cf788-6660-4642-d1d0-aa2da251732e"
      },
      "outputs": [
        {
          "output_type": "stream",
          "name": "stdout",
          "text": [
            "Enter a non-negative integer: 4\n",
            "The factorial of 4 is 24\n"
          ]
        }
      ],
      "source": [
        "# Write a Python program to calculate the factorial of a number using a while loop. (User input for the number)\n",
        "# Program to calculate factorial using a while loop\n",
        "\n",
        "# Get user input\n",
        "num = int(input(\"Enter a non-negative integer: \"))\n",
        "\n",
        "# Check for valid input\n",
        "if num < 0:\n",
        "    print(\"Factorial is not defined for negative numbers.\")\n",
        "else:\n",
        "    factorial = 1\n",
        "    i = 1\n",
        "\n",
        "    # Calculate factorial using while loop\n",
        "    while i <= num:\n",
        "        factorial *= i\n",
        "        i += 1\n",
        "\n",
        "    # Display the result\n",
        "    print(f\"The factorial of {num} is {factorial}\")\n"
      ]
    },
    {
      "cell_type": "code",
      "execution_count": null,
      "id": "68467ccc-d696-4ef1-84c4-164c9d87f755",
      "metadata": {
        "id": "68467ccc-d696-4ef1-84c4-164c9d87f755",
        "colab": {
          "base_uri": "https://localhost:8080/"
        },
        "outputId": "6eb39b94-b95a-4346-8085-7c037e1eafad"
      },
      "outputs": [
        {
          "output_type": "stream",
          "name": "stdout",
          "text": [
            "Enter the number of terms (n): 3\n",
            "Fibonacci sequence:\n",
            "0 1 1 "
          ]
        }
      ],
      "source": [
        "# Write a Python program to print the Fibonacci sequence up to n terms. (User input for n)\n",
        "# Program to print Fibonacci sequence up to n terms\n",
        "\n",
        "# Get user input\n",
        "n = int(input(\"Enter the number of terms (n): \"))\n",
        "\n",
        "# Check for valid input\n",
        "if n <= 0:\n",
        "    print(\"Please enter a positive integer.\")\n",
        "else:\n",
        "    # Initialize the first two terms\n",
        "    a, b = 0, 1\n",
        "    count = 0\n",
        "\n",
        "    # Print the Fibonacci sequence\n",
        "    print(\"Fibonacci sequence:\")\n",
        "    while count < n:\n",
        "        print(a, end=\" \")\n",
        "        # Update the terms\n",
        "        a, b = b, a + b\n",
        "        count += 1\n",
        "\n"
      ]
    },
    {
      "cell_type": "code",
      "execution_count": null,
      "id": "5bebd1f3-2606-4102-aa55-01cb1650f632",
      "metadata": {
        "id": "5bebd1f3-2606-4102-aa55-01cb1650f632",
        "colab": {
          "base_uri": "https://localhost:8080/"
        },
        "outputId": "07399f0f-e2ee-4d83-ea3c-06c115c1af8a"
      },
      "outputs": [
        {
          "output_type": "stream",
          "name": "stdout",
          "text": [
            "Prime numbers from 1 to 100:\n",
            "2 3 5 7 11 13 17 19 23 29 31 37 41 43 47 53 59 61 67 71 73 79 83 89 97 "
          ]
        }
      ],
      "source": [
        "# Write a Python program to find all the prime numbers from 1 to 100\n",
        "# Program to find all prime numbers from 1 to 100\n",
        "\n",
        "print(\"Prime numbers from 1 to 100:\")\n",
        "\n",
        "# Loop through numbers from 2 to 100\n",
        "for num in range(2, 101):\n",
        "    is_prime = True\n",
        "    # Check divisors from 2 to sqrt(num)\n",
        "    for i in range(2, int(num**0.5) + 1):\n",
        "        if num % i == 0:\n",
        "            is_prime = False\n",
        "            break\n",
        "    if is_prime:\n",
        "        print(num, end=\" \")\n"
      ]
    },
    {
      "cell_type": "code",
      "execution_count": null,
      "id": "0a3f894e-52ba-4c0b-9158-a70f31f4fd49",
      "metadata": {
        "id": "0a3f894e-52ba-4c0b-9158-a70f31f4fd49",
        "colab": {
          "base_uri": "https://localhost:8080/"
        },
        "outputId": "83d2acc6-aa8c-4930-a5b9-63cebfa2c853"
      },
      "outputs": [
        {
          "output_type": "stream",
          "name": "stdout",
          "text": [
            "Checking numbers...\n",
            "Current number: 10\n",
            "Current number: 20\n",
            "Current number: 30\n",
            "Current number: 40\n",
            "Current number: 55\n",
            "Number greater than 50 found: 55\n",
            "Loop terminated.\n"
          ]
        }
      ],
      "source": [
        "# Write a Python program that breaks out of a loop when a specific condition is met (e.g., when a number greater than 50 is found).\n",
        "# Program to demonstrate breaking out of a loop\n",
        "\n",
        "# List of numbers\n",
        "numbers = [10, 20, 30, 40, 55, 60, 70]\n",
        "\n",
        "print(\"Checking numbers...\")\n",
        "\n",
        "# Iterate through the list\n",
        "for number in numbers:\n",
        "    print(f\"Current number: {number}\")\n",
        "    # Break the loop if number is greater than 50\n",
        "    if number > 50:\n",
        "        print(f\"Number greater than 50 found: {number}\")\n",
        "        break\n",
        "else:\n",
        "    # This will execute only if the loop completes without hitting 'break'\n",
        "    print(\"No number greater than 50 found.\")\n",
        "\n",
        "print(\"Loop terminated.\")\n"
      ]
    },
    {
      "cell_type": "code",
      "execution_count": null,
      "id": "499b91d0-1f1b-494f-af2b-8cc3a06d90ed",
      "metadata": {
        "id": "499b91d0-1f1b-494f-af2b-8cc3a06d90ed",
        "colab": {
          "base_uri": "https://localhost:8080/"
        },
        "outputId": "cc28ce40-7cca-4ee6-f867-7288144aa4bb"
      },
      "outputs": [
        {
          "output_type": "stream",
          "name": "stdout",
          "text": [
            "Odd numbers from 1 to 20:\n",
            "1 3 5 7 9 11 13 15 17 19 "
          ]
        }
      ],
      "source": [
        "# Write a Python program to skip even numbers while printing numbers from 1 to 20 using a for loop.\n",
        "# Program to skip even numbers\n",
        "\n",
        "print(\"Odd numbers from 1 to 20:\")\n",
        "\n",
        "# Iterate through numbers from 1 to 20\n",
        "for num in range(1, 21):\n",
        "    # Skip the loop iteration if the number is even\n",
        "    if num % 2 == 0:\n",
        "        continue\n",
        "    print(num, end=\" \")\n"
      ]
    },
    {
      "cell_type": "code",
      "execution_count": null,
      "id": "f8ffed70-dfde-4262-a2fd-0d35d69b5fb1",
      "metadata": {
        "id": "f8ffed70-dfde-4262-a2fd-0d35d69b5fb1",
        "colab": {
          "base_uri": "https://localhost:8080/"
        },
        "outputId": "2adb930b-e935-4802-f1b8-1eecb7bdc1ef"
      },
      "outputs": [
        {
          "output_type": "stream",
          "name": "stdout",
          "text": [
            "Odd numbers from 1 to 20:\n",
            "1 3 5 7 9 11 13 15 17 19 "
          ]
        }
      ],
      "source": [
        "## # Program to skip even numbers\n",
        "# Program to skip even numbers and print only odd numbers\n",
        "\n",
        "print(\"Odd numbers from 1 to 20:\")\n",
        "\n",
        "# Iterate through numbers from 1 to 20\n",
        "for num in range(1, 21):\n",
        "    # Skip even numbers\n",
        "    if num % 2 == 0:\n",
        "        continue\n",
        "    print(num, end=\" \")\n",
        "\n"
      ]
    },
    {
      "cell_type": "code",
      "execution_count": null,
      "id": "01f976ed-4dcd-4842-ae84-d3b5cc42d011",
      "metadata": {
        "id": "01f976ed-4dcd-4842-ae84-d3b5cc42d011",
        "colab": {
          "base_uri": "https://localhost:8080/"
        },
        "outputId": "7a76a63a-e80b-4925-d553-2d2792d23af5"
      },
      "outputs": [
        {
          "output_type": "stream",
          "name": "stdout",
          "text": [
            "Enter a number: 8\n",
            "The sum of the digits is: 8\n"
          ]
        }
      ],
      "source": [
        "# Write a Python program to calculate the sum of digits of a number. (User input\n",
        "# for the number) %% [markdown] ## Data Structures (Lists, Tuples, Sets,\n",
        "# Dictionaries) %% Write a Python program to create a list of integers and print\n",
        "# the sum of the elements. %% Write a Python program to find the largest element\n",
        "# in a list. %% Write a Python program to reverse a list. %% Write a Python\n",
        "# program to remove all occurrences of a specific element from a list. %% Write\n",
        "# a Python program to find the index of an element in a list. %% Write a Python\n",
        "# program to find if a specific element exists in a list. %% Write a Python\n",
        "# program to remove duplicates from a list. %% Write a Python program to count\n",
        "# the occurrences of an element in a list. %% Write a Python program to get the\n",
        "# number of even numbers in a list. %% Write a Python program to create a tuple\n",
        "# and print it. %% Write a Python program to convert a tuple to a list and vice\n",
        "# versa. %% Write a Python program to find the maximum and minimum values in a\n",
        "# tuple. %% Write a Python program to unpack a tuple into variables. %% Write a\n",
        "# Python program to add an element to a set and check if an element exists in\n",
        "# the set. %% Write a Python program to create a dictionary with keys and values\n",
        "# and print it. %% Write a Python program to access a dictionary value using a\n",
        "# key. %% Write a Python program to check if a key exists in a dictionary. %%\n",
        "# Write a Python program to merge two dictionaries. %% Write a Python program to\n",
        "# remove a key from a dictionary. %% Write a Python program to get the number of\n",
        "# keys in a dictionary. %% Write a Python program to find the largest and\n",
        "# smallest values in a dictionary. %% [markdown] ## Functions (User-Defined,\n",
        "# Arguments, Keyword Arguments, Return Values) %% Write a Python function that\n",
        "# returns the square of a number. %% Write a Python function that accepts two\n",
        "# parameters and returns their sum. %% Write a Python function to check if a\n",
        "# given number is prime. %% Write a Python function to calculate the factorial\n",
        "# of a number using recursion. %% Write a Python function to calculate the power\n",
        "# of a number using recursion. %% Write a Python function to accept a list and\n",
        "# return its length without using the built-in len() function. %% Write a Python\n",
        "# function that accepts both positional and keyword arguments and prints the sum\n",
        "# of positional arguments. %% Write a Python function to find the maximum of two\n",
        "# numbers using keyword arguments. %% Write a Python function that accepts a\n",
        "# list of numbers and returns their product. %% Write a Python function to check\n",
        "# if a number is even or odd using the modulo operator. %% Write a Python\n",
        "# program to create a list of squares of numbers from 1 to 10 using list\n",
        "# comprehension. %% Write a Python program to filter out all even numbers from a\n",
        "# list using list comprehension. %% Write a Python program to create a list of\n",
        "# strings that are longer than 4 characters from a given list of words using\n",
        "# list comprehension. %% Write a Python program to create a list of all\n",
        "# uppercase letters in a string using list comprehension. %% Write a Python\n",
        "# program to generate the first n Fibonacci numbers using list comprehension. %%\n",
        "# Write a Python program to create a dictionary where keys are numbers and\n",
        "# values are their squares using dictionary comprehension. %% Write a Python\n",
        "# program to create a dictionary from two lists (one for keys and one for\n",
        "# values) using dictionary comprehension. %% Write a Python program to create a\n",
        "# dictionary of numbers from 1 to 5 and their cubes using dictionary\n",
        "# comprehension. %% Write a Python program to square each element of a list\n",
        "# using the map() function. %% Write a Python program to filter all even numbers\n",
        "# from a list using the filter() function. %% Write a Python program to use a\n",
        "# lambda function to check if a number is divisible by both 3 and 5. %% Write a\n",
        "# Python program to multiply all numbers in a list by 2 using a lambda function\n",
        "# inside map(). %% Write a Python program to remove all occurrences of a\n",
        "# specific element from a list. %% [markdown]\n",
        "# Program to calculate the sum of digits of a number\n",
        "\n",
        "# Get user input\n",
        "num = input(\"Enter a number: \")\n",
        "\n",
        "# Validate input\n",
        "if not num.isdigit():\n",
        "    print(\"Please enter a valid positive integer.\")\n",
        "else:\n",
        "    num = int(num)\n",
        "    digit_sum = 0\n",
        "\n",
        "    # Calculate the sum of digits\n",
        "    while num > 0:\n",
        "        digit_sum += num % 10  # Get the last digit\n",
        "        num //= 10  # Remove the last digit\n",
        "\n",
        "    # Display the result\n",
        "    print(f\"The sum of the digits is: {digit_sum}\")\n"
      ]
    },
    {
      "cell_type": "markdown",
      "id": "fe644fae-f262-48dd-b7ff-08eb747d297e",
      "metadata": {
        "id": "fe644fae-f262-48dd-b7ff-08eb747d297e"
      },
      "source": [
        "## Data Structures (Lists, Tuples, Sets, Dictionaries)"
      ]
    },
    {
      "cell_type": "code",
      "execution_count": null,
      "id": "a0333c26-8e19-4c71-9722-d32cf8625ef6",
      "metadata": {
        "id": "a0333c26-8e19-4c71-9722-d32cf8625ef6",
        "colab": {
          "base_uri": "https://localhost:8080/"
        },
        "outputId": "d7d39c54-bd5b-403c-8348-1ce1f55795d4"
      },
      "outputs": [
        {
          "output_type": "stream",
          "name": "stdout",
          "text": [
            "Enter a number: 6\n",
            "The sum of the digits is: 6\n"
          ]
        }
      ],
      "source": [
        "# ## Program to calculate the sum of digits of a number\n",
        "\n",
        "# Get user input\n",
        "number = int(input(\"Enter a number: \"))\n",
        "\n",
        "# Ensure the number is positive for calculation\n",
        "if number < 0:\n",
        "    number = -number  # Convert to positive if it's negative\n",
        "\n",
        "# Initialize the sum\n",
        "sum_of_digits = 0\n",
        "\n",
        "# Calculate the sum of digits\n",
        "while number > 0:\n",
        "    digit = number % 10  # Extract the last digit\n",
        "    sum_of_digits += digit  # Add the digit to the sum\n",
        "    number //= 10  # Remove the last digit\n",
        "\n",
        "# Display the result\n",
        "print(f\"The sum of the digits is: {sum_of_digits}\")\n"
      ]
    },
    {
      "cell_type": "code",
      "execution_count": 1,
      "id": "5a23046d-80b0-4f8d-a02f-4e3d833c0443",
      "metadata": {
        "id": "5a23046d-80b0-4f8d-a02f-4e3d833c0443",
        "colab": {
          "base_uri": "https://localhost:8080/"
        },
        "outputId": "56a512b8-cc1f-4385-bf16-6fbfc4c43e2f"
      },
      "outputs": [
        {
          "output_type": "stream",
          "name": "stdout",
          "text": [
            "The largest element in the list is: 99\n"
          ]
        }
      ],
      "source": [
        "# Write a Python program to find the largest element in a list.\n",
        "# Function to find the largest element in a list\n",
        "def find_largest_element(lst):\n",
        "    # Check if the list is empty\n",
        "    if not lst:\n",
        "        return None  # Return None if the list is empty\n",
        "    # Use the max() function to find the largest element\n",
        "    return max(lst)\n",
        "\n",
        "# Example usage\n",
        "my_list = [10, 20, 4, 45, 99]\n",
        "largest_element = find_largest_element(my_list)\n",
        "\n",
        "if largest_element is not None:\n",
        "    print(\"The largest element in the list is:\", largest_element)\n",
        "else:\n",
        "    print(\"The list is empty.\")\n",
        "\n"
      ]
    },
    {
      "cell_type": "code",
      "execution_count": null,
      "id": "9939c2d2-90fd-4e80-81bc-227c72e60e37",
      "metadata": {
        "id": "9939c2d2-90fd-4e80-81bc-227c72e60e37",
        "colab": {
          "base_uri": "https://localhost:8080/"
        },
        "outputId": "ea651596-362e-4a6d-c55d-1a368c7155b4"
      },
      "outputs": [
        {
          "output_type": "stream",
          "name": "stdout",
          "text": [
            "Original List: [1, 2, 3, 4, 5]\n",
            "Reversed List: [5, 4, 3, 2, 1]\n"
          ]
        }
      ],
      "source": [
        "# Write a Python program to reverse a list.\n",
        "# Program to reverse a list using reverse() method\n",
        "\n",
        "# Get input list\n",
        "original_list = [1, 2, 3, 4, 5]\n",
        "print(\"Original List:\", original_list)\n",
        "\n",
        "# Reverse the list\n",
        "original_list.reverse()\n",
        "print(\"Reversed List:\", original_list)\n"
      ]
    },
    {
      "cell_type": "code",
      "execution_count": null,
      "id": "aa287db8-057b-48d4-a6d8-18cc53eb7178",
      "metadata": {
        "id": "aa287db8-057b-48d4-a6d8-18cc53eb7178",
        "colab": {
          "base_uri": "https://localhost:8080/"
        },
        "outputId": "211cd360-c497-4d1b-e800-3503b8e85d34"
      },
      "outputs": [
        {
          "output_type": "stream",
          "name": "stdout",
          "text": [
            "Enter the element to remove: 3\n",
            "Original List: [1, 2, 3, 4, 3, 5, 3, 6]\n",
            "List after removing all occurrences of 3 : [1, 2, 4, 5, 6]\n"
          ]
        }
      ],
      "source": [
        "# Write a Python program to remove all occurrences of a specific element from a list.\n",
        "# Program to remove all occurrences of a specific element from a list\n",
        "\n",
        "# Input: List and the element to remove\n",
        "original_list = [1, 2, 3, 4, 3, 5, 3, 6]\n",
        "element_to_remove = int(input(\"Enter the element to remove: \"))\n",
        "\n",
        "# Remove all occurrences of the specified element\n",
        "filtered_list = [x for x in original_list if x != element_to_remove]\n",
        "\n",
        "# Display the result\n",
        "print(\"Original List:\", original_list)\n",
        "print(\"List after removing all occurrences of\", element_to_remove, \":\", filtered_list)\n"
      ]
    },
    {
      "cell_type": "code",
      "execution_count": 2,
      "id": "da9ba926-0ab5-46e9-b66d-128088c3225b",
      "metadata": {
        "id": "da9ba926-0ab5-46e9-b66d-128088c3225b",
        "colab": {
          "base_uri": "https://localhost:8080/"
        },
        "outputId": "d95a8e9e-4641-4197-855d-49a87862bc05"
      },
      "outputs": [
        {
          "output_type": "stream",
          "name": "stdout",
          "text": [
            "The element 30 is at index 2.\n"
          ]
        }
      ],
      "source": [
        "# Write a Python program to find the index of an element in a list.\n",
        "# Function to find the index of an element in a list\n",
        "def find_element_index(lst, element):\n",
        "    # Check if the element is in the list\n",
        "    if element in lst:\n",
        "        return lst.index(element)  # Return the index of the element\n",
        "    else:\n",
        "        return -1  # Return -1 if the element is not found\n",
        "\n",
        "# Example usage\n",
        "my_list = [10, 20, 30, 40, 50]\n",
        "element_to_find = 30\n",
        "index = find_element_index(my_list, element_to_find)\n",
        "\n",
        "if index != -1:\n",
        "    print(f\"The element {element_to_find} is at index {index}.\")\n",
        "else:\n",
        "    print(f\"The element {element_to_find} is not in the list.\")\n",
        "\n"
      ]
    },
    {
      "cell_type": "code",
      "execution_count": 3,
      "id": "9601b6e4-cb90-4e1f-87b4-38ed37076e0d",
      "metadata": {
        "id": "9601b6e4-cb90-4e1f-87b4-38ed37076e0d",
        "colab": {
          "base_uri": "https://localhost:8080/"
        },
        "outputId": "7283765f-eb4a-4a2d-bd5d-e5ae5151fc0e"
      },
      "outputs": [
        {
          "output_type": "stream",
          "name": "stdout",
          "text": [
            "The element 30 exists in the list.\n"
          ]
        }
      ],
      "source": [
        "# Write a Python program to find if a specific element exists in a list.\n",
        "# Function to check if an element exists in a list\n",
        "def element_exists(lst, element):\n",
        "    # Use the 'in' operator to check if the element is in the list\n",
        "    return element in lst\n",
        "\n",
        "# Example usage\n",
        "my_list = [10, 20, 30, 40, 50]\n",
        "element_to_find = 30\n",
        "\n",
        "# Check if the element exists in the list\n",
        "if element_exists(my_list, element_to_find):\n",
        "    print(f\"The element {element_to_find} exists in the list.\")\n",
        "else:\n",
        "    print(f\"The element {element_to_find} does not exist in the list.\")\n",
        "\n"
      ]
    },
    {
      "cell_type": "code",
      "execution_count": 4,
      "id": "9d8e7311-81de-4da2-826c-c4dcad28ed9f",
      "metadata": {
        "id": "9d8e7311-81de-4da2-826c-c4dcad28ed9f",
        "colab": {
          "base_uri": "https://localhost:8080/"
        },
        "outputId": "32916fd3-c068-444a-a0e1-105940e0ec56"
      },
      "outputs": [
        {
          "output_type": "stream",
          "name": "stdout",
          "text": [
            "List after removing duplicates: [40, 10, 50, 20, 30]\n"
          ]
        }
      ],
      "source": [
        "# Write a Python program to remove duplicates from a list.\n",
        "def remove_duplicates(lst):\n",
        "    # Convert the list to a set and back to a list to remove duplicates\n",
        "    return list(set(lst))\n",
        "\n",
        "# Example usage\n",
        "my_list = [10, 20, 20, 30, 40, 10, 50, 30]\n",
        "\n",
        "# Remove duplicates\n",
        "unique_list = remove_duplicates(my_list)\n",
        "\n",
        "print(\"List after removing duplicates:\", unique_list)\n"
      ]
    },
    {
      "cell_type": "code",
      "execution_count": 5,
      "id": "09e5121b-97b3-42e4-8025-f28f3470681b",
      "metadata": {
        "id": "09e5121b-97b3-42e4-8025-f28f3470681b",
        "colab": {
          "base_uri": "https://localhost:8080/"
        },
        "outputId": "5cb3336a-7f18-4a29-d84b-04a2ce46310e"
      },
      "outputs": [
        {
          "output_type": "stream",
          "name": "stdout",
          "text": [
            "The element 20 appears 3 times in the list.\n"
          ]
        }
      ],
      "source": [
        "# Write a Python program to count the occurrences of an element in a list.\n",
        "# Function to count the occurrences of an element in a list\n",
        "def count_occurrences(lst, element):\n",
        "    # Use the count() method to count occurrences of the element\n",
        "    return lst.count(element)\n",
        "\n",
        "# Example usage\n",
        "my_list = [10, 20, 30, 20, 40, 20, 50]\n",
        "element_to_count = 20\n",
        "\n",
        "# Count the occurrences of the element\n",
        "occurrences = count_occurrences(my_list, element_to_count)\n",
        "\n",
        "print(f\"The element {element_to_count} appears {occurrences} times in the list.\")\n"
      ]
    },
    {
      "cell_type": "code",
      "execution_count": 6,
      "id": "b774b741-e9a6-45db-8f00-e6d9b734d03a",
      "metadata": {
        "id": "b774b741-e9a6-45db-8f00-e6d9b734d03a",
        "colab": {
          "base_uri": "https://localhost:8080/"
        },
        "outputId": "e2d16fb2-7a71-4d50-c1fb-c5c010432e25"
      },
      "outputs": [
        {
          "output_type": "stream",
          "name": "stdout",
          "text": [
            "The number of even numbers in the list is: 4\n"
          ]
        }
      ],
      "source": [
        "# Write a Python program to get the number of even numbers in a list.\n",
        "# Function to count the number of even numbers in a list\n",
        "def count_even_numbers(lst):\n",
        "    # Use a list comprehension to count even numbers\n",
        "    return len([num for num in lst if num % 2 == 0])\n",
        "\n",
        "# Example usage\n",
        "my_list = [10, 21, 32, 43, 54, 65, 76, 87]\n",
        "\n",
        "# Count the number of even numbers\n",
        "even_count = count_even_numbers(my_list)\n",
        "\n",
        "print(f\"The number of even numbers in the list is: {even_count}\")\n"
      ]
    },
    {
      "cell_type": "code",
      "execution_count": 7,
      "id": "5ce4fd2b-ab16-4b40-9ac2-d19c244d8d96",
      "metadata": {
        "id": "5ce4fd2b-ab16-4b40-9ac2-d19c244d8d96",
        "colab": {
          "base_uri": "https://localhost:8080/"
        },
        "outputId": "cd55d912-89ec-4a93-add8-69c12d110d34"
      },
      "outputs": [
        {
          "output_type": "stream",
          "name": "stdout",
          "text": [
            "The tuple is: (10, 20, 30, 40, 50)\n"
          ]
        }
      ],
      "source": [
        "# Write a Python program to create a tuple and print it.\n",
        "# Creating a tuple\n",
        "my_tuple = (10, 20, 30, 40, 50)\n",
        "\n",
        "# Printing the tuple\n",
        "print(\"The tuple is:\", my_tuple)"
      ]
    },
    {
      "cell_type": "code",
      "execution_count": 8,
      "id": "5c04f880-6e96-4ef4-9f4b-df21aae76ff1",
      "metadata": {
        "id": "5c04f880-6e96-4ef4-9f4b-df21aae76ff1",
        "colab": {
          "base_uri": "https://localhost:8080/"
        },
        "outputId": "b6ce9db5-8c96-41de-aac2-c241019bd1dd"
      },
      "outputs": [
        {
          "output_type": "stream",
          "name": "stdout",
          "text": [
            "Original tuple: (10, 20, 30, 40, 50)\n",
            "Converted to list: [10, 20, 30, 40, 50]\n",
            "Original list: [60, 70, 80, 90]\n",
            "Converted to tuple: (60, 70, 80, 90)\n"
          ]
        }
      ],
      "source": [
        "# Write a Python program to convert a tuple to a list and vice versa.\n",
        "# Convert tuple to list\n",
        "my_tuple = (10, 20, 30, 40, 50)\n",
        "tuple_to_list = list(my_tuple)\n",
        "\n",
        "# Convert list to tuple\n",
        "my_list = [60, 70, 80, 90]\n",
        "list_to_tuple = tuple(my_list)\n",
        "\n",
        "# Printing the results\n",
        "print(\"Original tuple:\", my_tuple)\n",
        "print(\"Converted to list:\", tuple_to_list)\n",
        "print(\"Original list:\", my_list)\n",
        "print(\"Converted to tuple:\", list_to_tuple)"
      ]
    },
    {
      "cell_type": "code",
      "execution_count": 9,
      "id": "d5192acc-27f3-456e-9c72-3b276a587bf5",
      "metadata": {
        "id": "d5192acc-27f3-456e-9c72-3b276a587bf5",
        "colab": {
          "base_uri": "https://localhost:8080/"
        },
        "outputId": "7bcb8be2-7a1a-49db-96e0-80f81f8b601a"
      },
      "outputs": [
        {
          "output_type": "stream",
          "name": "stdout",
          "text": [
            "The maximum value in the tuple is: 50\n",
            "The minimum value in the tuple is: 10\n"
          ]
        }
      ],
      "source": [
        "# Write a Python program to find the maximum and minimum values in a tuple.\n",
        "# Function to find the maximum and minimum values in a tuple\n",
        "def find_max_min(tpl):\n",
        "    # Use the max() and min() functions to find the max and min values\n",
        "    return max(tpl), min(tpl)\n",
        "\n",
        "# Example usage\n",
        "my_tuple = (10, 20, 30, 40, 50)\n",
        "\n",
        "# Find maximum and minimum values\n",
        "maximum, minimum = find_max_min(my_tuple)\n",
        "\n",
        "print(\"The maximum value in the tuple is:\", maximum)\n",
        "print(\"The minimum value in the tuple is:\", minimum)\n"
      ]
    },
    {
      "cell_type": "code",
      "execution_count": 10,
      "id": "43f0a340-9407-4302-af7e-4e63db578bbf",
      "metadata": {
        "id": "43f0a340-9407-4302-af7e-4e63db578bbf",
        "colab": {
          "base_uri": "https://localhost:8080/"
        },
        "outputId": "73acc937-9016-41ae-c607-6cffa499d84e"
      },
      "outputs": [
        {
          "output_type": "stream",
          "name": "stdout",
          "text": [
            "Unpacked values:\n",
            "a = 10\n",
            "b = 20\n",
            "c = 30\n",
            "d = 40\n",
            "e = 50\n"
          ]
        }
      ],
      "source": [
        "# Write a Python program to unpack a tuple into variables.\n",
        "# Creating a tuple\n",
        "my_tuple = (10, 20, 30, 40, 50)\n",
        "\n",
        "# Unpacking the tuple into variables\n",
        "a, b, c, d, e = my_tuple\n",
        "\n",
        "# Printing the unpacked values\n",
        "print(\"Unpacked values:\")\n",
        "print(\"a =\", a)\n",
        "print(\"b =\", b)\n",
        "print(\"c =\", c)\n",
        "print(\"d =\", d)\n",
        "print(\"e =\", e)\n",
        "\n"
      ]
    },
    {
      "cell_type": "code",
      "execution_count": 12,
      "id": "46e96e29-2157-4b9f-bb24-0bd973eada9f",
      "metadata": {
        "id": "46e96e29-2157-4b9f-bb24-0bd973eada9f",
        "colab": {
          "base_uri": "https://localhost:8080/"
        },
        "outputId": "971863fe-645b-43b2-e38e-e706f0501769"
      },
      "outputs": [
        {
          "output_type": "stream",
          "name": "stdout",
          "text": [
            "Updated set: {40, 10, 50, 20, 30}\n",
            "The element 50 exists in the set.\n"
          ]
        }
      ],
      "source": [
        "# Write a Python program to add an element to a set and check if an element exists in the set.\n",
        "# Function to add an element to a set and check if an element exists in the set\n",
        "def add_element_and_check_existence(my_set, element):\n",
        "    # Adding the element to the set\n",
        "    my_set.add(element)\n",
        "\n",
        "    # Checking if the element exists in the set\n",
        "    if element in my_set:\n",
        "        return True\n",
        "    else:\n",
        "        return False\n",
        "# Example usage\n",
        "my_set = {10, 20, 30, 40}\n",
        "\n",
        "# Element to add\n",
        "element_to_add = 50\n",
        "\n",
        "# Add the element and check if it exists\n",
        "exists = add_element_and_check_existence(my_set, element_to_add)\n",
        "\n",
        "# Printing the updated set and the result\n",
        "print(\"Updated set:\", my_set)\n",
        "if exists:\n",
        "    print(f\"The element {element_to_add} exists in the set.\")\n",
        "else:\n",
        "    print(f\"The element {element_to_add} does not exist in the set.\")\n"
      ]
    },
    {
      "cell_type": "code",
      "execution_count": 19,
      "id": "d81a803b-fd80-403e-9ae3-680ef44a3d86",
      "metadata": {
        "id": "d81a803b-fd80-403e-9ae3-680ef44a3d86",
        "colab": {
          "base_uri": "https://localhost:8080/"
        },
        "outputId": "10af8c9a-669f-4c82-b264-6ae187a6f329"
      },
      "outputs": [
        {
          "output_type": "stream",
          "name": "stdout",
          "text": [
            "The dictionary is: {'name': 'Navya chowdary', 'age': 20, 'city': 'america', 'job': 'Engineer'}\n"
          ]
        }
      ],
      "source": [
        "# Write a Python program to create a dictionary with keys and values and print it.\n",
        "# Creating a dictionary with keys and values\n",
        "my_dict ={\n",
        "    \"name\": \"Navya chowdary\",\n",
        "    \"age\":20,\n",
        "    \"city\": \"america\",\n",
        "    \"job\": \"Engineer\",\n",
        "}\n",
        "# Printing the dictionary\n",
        "print(\"The dictionary is:\", my_dict)\n"
      ]
    },
    {
      "cell_type": "code",
      "execution_count": 14,
      "id": "7432174b-fe75-4371-b23a-e2c5d62edb15",
      "metadata": {
        "id": "7432174b-fe75-4371-b23a-e2c5d62edb15",
        "colab": {
          "base_uri": "https://localhost:8080/"
        },
        "outputId": "e94331db-f447-4c65-bcbb-6eaa4f05f4d7"
      },
      "outputs": [
        {
          "output_type": "stream",
          "name": "stdout",
          "text": [
            "The value associated with the key 'city' is: hyderabad\n"
          ]
        }
      ],
      "source": [
        "# Write a Python program to access a dictionary value using a key.\n",
        "# Creating a dictionary with keys and values\n",
        "my_dict = {\n",
        "    \"name\": \"navya\",\n",
        "    \"age\": 19,\n",
        "    \"city\": \"hyderabad\",\n",
        "    \"job\": \"software engineer\"\n",
        "}\n",
        "\n",
        "# Accessing a value using a key\n",
        "key_to_lookup = \"city\"\n",
        "value = my_dict[key_to_lookup]  # Accessing the value using the key\n",
        "\n",
        "# Printing the value associated with the key\n",
        "print(f\"The value associated with the key '{key_to_lookup}' is: {value}\")\n"
      ]
    },
    {
      "cell_type": "code",
      "execution_count": 20,
      "id": "000b3260-d91f-41f2-9729-4b0124f2c4d2",
      "metadata": {
        "id": "000b3260-d91f-41f2-9729-4b0124f2c4d2",
        "colab": {
          "base_uri": "https://localhost:8080/"
        },
        "outputId": "d63b2ac0-9f6d-4569-ee8e-8eb36f23d3e5"
      },
      "outputs": [
        {
          "output_type": "stream",
          "name": "stdout",
          "text": [
            "The key 'age' exists in the dictionary.\n"
          ]
        }
      ],
      "source": [
        "# Write a Python program to check if a key exists in a dictionary.\n",
        "# Creating a dictionary with keys and values\n",
        "my_dict = {\n",
        "    \"name\": \"navya\",\n",
        "    \"age\":20,\n",
        "    \"city\": \"hyderbad\",\n",
        "    \"job\": \"Developer\"\n",
        "}\n",
        "\n",
        "# Key to check\n",
        "key_to_check = \"age\"\n",
        "\n",
        "# Check if the key exists in the dictionary\n",
        "if key_to_check in my_dict:\n",
        "    print(f\"The key '{key_to_check}' exists in the dictionary.\")\n",
        "else:\n",
        "    print(f\"The key '{key_to_check}' does not exist in the dictionary.\")\n"
      ]
    },
    {
      "cell_type": "code",
      "execution_count": 21,
      "id": "c4b1a942-818e-42c1-b742-1fabe80fca6d",
      "metadata": {
        "id": "c4b1a942-818e-42c1-b742-1fabe80fca6d",
        "colab": {
          "base_uri": "https://localhost:8080/"
        },
        "outputId": "844721e0-ba0a-47d3-eec7-6865ffd5346c"
      },
      "outputs": [
        {
          "output_type": "stream",
          "name": "stdout",
          "text": [
            "Merged Dictionary: {'name': 'Alice', 'age': 25, 'city': 'New York', 'job': 'Developer'}\n"
          ]
        }
      ],
      "source": [
        "# Write a Python program to merge two dictionaries.\n",
        "# Creating two dictionaries\n",
        "dict1 = {\"name\": \"Alice\", \"age\": 25}\n",
        "dict2 = {\"city\": \"New York\", \"job\": \"Developer\"}\n",
        "\n",
        "# Merging two dictionaries using the update() method\n",
        "dict1.update(dict2)\n",
        "\n",
        "# Alternatively, using the merge operator (Python 3.9+)\n",
        "# dict1 = {**dict1, **dict2}\n",
        "\n",
        "# Printing the merged dictionary\n",
        "print(\"Merged Dictionary:\", dict1)\n"
      ]
    },
    {
      "cell_type": "code",
      "execution_count": 22,
      "id": "a78f1070-3ff3-436a-8391-153f019f53cd",
      "metadata": {
        "id": "a78f1070-3ff3-436a-8391-153f019f53cd",
        "colab": {
          "base_uri": "https://localhost:8080/"
        },
        "outputId": "e44453b4-9e19-4201-e099-8bc0bb797e6b"
      },
      "outputs": [
        {
          "output_type": "stream",
          "name": "stdout",
          "text": [
            "The key 'age' has been removed.\n",
            "Updated Dictionary: {'name': 'Alice', 'city': 'New York', 'job': 'Developer'}\n"
          ]
        }
      ],
      "source": [
        "# Write a Python program to remove a key from a dictionary.\n",
        "# Creating a dictionary with keys and values\n",
        "my_dict = {\n",
        "    \"name\": \"Alice\",\n",
        "    \"age\": 25,\n",
        "    \"city\": \"New York\",\n",
        "    \"job\": \"Developer\"\n",
        "}\n",
        "\n",
        "# Key to remove\n",
        "key_to_remove = \"age\"\n",
        "\n",
        "# Removing the key using the del statement\n",
        "if key_to_remove in my_dict:\n",
        "    del my_dict[key_to_remove]\n",
        "    print(f\"The key '{key_to_remove}' has been removed.\")\n",
        "else:\n",
        "    print(f\"The key '{key_to_remove}' does not exist in the dictionary.\")\n",
        "\n",
        "# Printing the updated dictionary\n",
        "print(\"Updated Dictionary:\", my_dict)\n"
      ]
    },
    {
      "cell_type": "code",
      "execution_count": 24,
      "id": "fcba0267-8cc4-4e89-9e78-2d820916c177",
      "metadata": {
        "id": "fcba0267-8cc4-4e89-9e78-2d820916c177",
        "colab": {
          "base_uri": "https://localhost:8080/"
        },
        "outputId": "bf5a4ba0-f24e-4a15-e8d3-33b0a2a28e8f"
      },
      "outputs": [
        {
          "output_type": "stream",
          "name": "stdout",
          "text": [
            "The number of keys in the dictionary is: 4\n"
          ]
        }
      ],
      "source": [
        "# Write a Python program to get the number of keys in a dictionary.\n",
        "# Creating a dictionary with keys and values\n",
        "my_dict = {\n",
        "    \"name\": \"navya\",\n",
        "    \"age\": 25,\n",
        "    \"city\": \"hydebad\",\n",
        "    \"job\": \"Developer\"\n",
        "}\n",
        "\n",
        "# Getting the number of keys in the dictionary\n",
        "num_keys = len(my_dict)\n",
        "\n",
        "# Printing the number of keys\n",
        "print(f\"The number of keys in the dictionary is: {num_keys}\")\n"
      ]
    },
    {
      "cell_type": "code",
      "execution_count": null,
      "id": "d4c5fd77-9656-43e5-8fe2-be7dca23eb6d",
      "metadata": {
        "id": "d4c5fd77-9656-43e5-8fe2-be7dca23eb6d"
      },
      "outputs": [],
      "source": [
        "# Write a Python program to find the largest and smallest values in a dictionary."
      ]
    },
    {
      "cell_type": "markdown",
      "id": "7830b8cc-9a90-45a2-8e4a-6f3c2b8b133b",
      "metadata": {
        "id": "7830b8cc-9a90-45a2-8e4a-6f3c2b8b133b"
      },
      "source": [
        "## Functions (User-Defined, Arguments, Keyword Arguments, Return Values)"
      ]
    },
    {
      "cell_type": "code",
      "execution_count": null,
      "id": "06a33fba-c6b1-4989-90f4-b647d1fe1627",
      "metadata": {
        "id": "06a33fba-c6b1-4989-90f4-b647d1fe1627"
      },
      "outputs": [],
      "source": [
        "# Write a Python function that returns the square of a number."
      ]
    },
    {
      "cell_type": "code",
      "execution_count": null,
      "id": "91d90a4a-7329-45db-893b-caed8450ba96",
      "metadata": {
        "id": "91d90a4a-7329-45db-893b-caed8450ba96"
      },
      "outputs": [],
      "source": [
        "# Write a Python function that accepts two parameters and returns their sum."
      ]
    },
    {
      "cell_type": "code",
      "execution_count": null,
      "id": "dec2f9a5-90c5-478b-890b-0a506ecf45d3",
      "metadata": {
        "id": "dec2f9a5-90c5-478b-890b-0a506ecf45d3"
      },
      "outputs": [],
      "source": [
        "# Write a Python function to check if a given number is prime."
      ]
    },
    {
      "cell_type": "code",
      "execution_count": null,
      "id": "56337441-68c3-45df-8733-a34cde0533a5",
      "metadata": {
        "id": "56337441-68c3-45df-8733-a34cde0533a5"
      },
      "outputs": [],
      "source": [
        "# Write a Python function to calculate the factorial of a number using recursion."
      ]
    },
    {
      "cell_type": "code",
      "execution_count": null,
      "id": "84a2d010-e7b2-409b-b1f4-99bf806bb77a",
      "metadata": {
        "id": "84a2d010-e7b2-409b-b1f4-99bf806bb77a"
      },
      "outputs": [],
      "source": [
        "# Write a Python function to calculate the power of a number using recursion."
      ]
    },
    {
      "cell_type": "code",
      "execution_count": null,
      "id": "ec44911e-7820-46cc-96a3-4ca443888837",
      "metadata": {
        "id": "ec44911e-7820-46cc-96a3-4ca443888837"
      },
      "outputs": [],
      "source": [
        "# Write a Python function to accept a list and return its length without using the built-in len() function."
      ]
    },
    {
      "cell_type": "code",
      "execution_count": null,
      "id": "fb4c08e1-34f3-487a-a1c6-77cd60fb4836",
      "metadata": {
        "id": "fb4c08e1-34f3-487a-a1c6-77cd60fb4836"
      },
      "outputs": [],
      "source": [
        "# Write a Python function that accepts both positional and keyword arguments and prints the sum of positional arguments."
      ]
    },
    {
      "cell_type": "code",
      "execution_count": null,
      "id": "f4ffc7a8-f579-461c-b507-4085a0477283",
      "metadata": {
        "id": "f4ffc7a8-f579-461c-b507-4085a0477283"
      },
      "outputs": [],
      "source": [
        "# Write a Python function to find the maximum of two numbers using keyword arguments."
      ]
    },
    {
      "cell_type": "code",
      "execution_count": null,
      "id": "0b00c4af-89e0-43e8-a991-1b684d2ce33f",
      "metadata": {
        "id": "0b00c4af-89e0-43e8-a991-1b684d2ce33f"
      },
      "outputs": [],
      "source": [
        "# Write a Python function that accepts a list of numbers and returns their product."
      ]
    },
    {
      "cell_type": "code",
      "execution_count": null,
      "id": "9cd11703-5b48-44fe-af4e-ea906a2762c9",
      "metadata": {
        "id": "9cd11703-5b48-44fe-af4e-ea906a2762c9"
      },
      "outputs": [],
      "source": [
        "# Write a Python function to check if a number is even or odd using the modulo operator."
      ]
    },
    {
      "cell_type": "code",
      "execution_count": null,
      "id": "afbf262e-daed-40a9-827f-82fa60979610",
      "metadata": {
        "id": "afbf262e-daed-40a9-827f-82fa60979610"
      },
      "outputs": [],
      "source": [
        "# Write a Python program to create a list of squares of numbers from 1 to 10 using list comprehension."
      ]
    },
    {
      "cell_type": "code",
      "execution_count": null,
      "id": "7fff76d8-9ba8-4006-9be6-6f7350092d1c",
      "metadata": {
        "id": "7fff76d8-9ba8-4006-9be6-6f7350092d1c"
      },
      "outputs": [],
      "source": [
        "# Write a Python program to filter out all even numbers from a list using list comprehension."
      ]
    },
    {
      "cell_type": "code",
      "execution_count": null,
      "id": "6ae9b8df-38f9-4fd7-bad1-aa7b07cc9271",
      "metadata": {
        "id": "6ae9b8df-38f9-4fd7-bad1-aa7b07cc9271"
      },
      "outputs": [],
      "source": [
        "# Write a Python program to create a list of strings that are longer than 4 characters from a given list of words using list comprehension."
      ]
    },
    {
      "cell_type": "code",
      "execution_count": null,
      "id": "f492c7d4-6ad3-48ab-9b61-232be02aecee",
      "metadata": {
        "id": "f492c7d4-6ad3-48ab-9b61-232be02aecee"
      },
      "outputs": [],
      "source": [
        "# Write a Python program to create a list of all uppercase letters in a string using list comprehension."
      ]
    },
    {
      "cell_type": "code",
      "execution_count": null,
      "id": "929a7f74-1762-4a2a-be23-bacf67ff4d8b",
      "metadata": {
        "id": "929a7f74-1762-4a2a-be23-bacf67ff4d8b"
      },
      "outputs": [],
      "source": [
        "# Write a Python program to generate the first n Fibonacci numbers using list comprehension."
      ]
    },
    {
      "cell_type": "code",
      "execution_count": null,
      "id": "47188bbc-cf62-47bb-a14e-0582c8b5cdd9",
      "metadata": {
        "id": "47188bbc-cf62-47bb-a14e-0582c8b5cdd9"
      },
      "outputs": [],
      "source": [
        "# Write a Python program to create a dictionary where keys are numbers and values are their squares using dictionary comprehension."
      ]
    },
    {
      "cell_type": "code",
      "execution_count": null,
      "id": "3c4637d3-aa85-4b4c-acf3-953c10818bcb",
      "metadata": {
        "id": "3c4637d3-aa85-4b4c-acf3-953c10818bcb"
      },
      "outputs": [],
      "source": [
        "# Write a Python program to create a dictionary from two lists (one for keys and one for values) using dictionary comprehension."
      ]
    },
    {
      "cell_type": "code",
      "execution_count": null,
      "id": "de817d6f-96e7-4346-839e-1ef0df539b6b",
      "metadata": {
        "id": "de817d6f-96e7-4346-839e-1ef0df539b6b"
      },
      "outputs": [],
      "source": [
        "# Write a Python program to create a dictionary of numbers from 1 to 5 and their cubes using dictionary comprehension."
      ]
    },
    {
      "cell_type": "code",
      "execution_count": null,
      "id": "33695301-057e-49a6-9f80-a2f4e3af60ed",
      "metadata": {
        "id": "33695301-057e-49a6-9f80-a2f4e3af60ed"
      },
      "outputs": [],
      "source": [
        "# Write a Python program to square each element of a list using the map() function."
      ]
    },
    {
      "cell_type": "code",
      "execution_count": null,
      "id": "6d4d17f3-c40f-4944-8656-c6416b600361",
      "metadata": {
        "id": "6d4d17f3-c40f-4944-8656-c6416b600361"
      },
      "outputs": [],
      "source": [
        "# Write a Python program to filter all even numbers from a list using the filter() function."
      ]
    },
    {
      "cell_type": "code",
      "execution_count": null,
      "id": "6634ba1f-9f81-475e-b7c4-422d102afb75",
      "metadata": {
        "id": "6634ba1f-9f81-475e-b7c4-422d102afb75"
      },
      "outputs": [],
      "source": [
        "# Write a Python program to use a lambda function to check if a number is divisible by both 3 and 5."
      ]
    },
    {
      "cell_type": "code",
      "execution_count": null,
      "id": "0aac8430-5d77-439d-9a99-9598fadf989c",
      "metadata": {
        "id": "0aac8430-5d77-439d-9a99-9598fadf989c"
      },
      "outputs": [],
      "source": [
        "# Write a Python program to multiply all numbers in a list by 2 using a lambda function inside map()."
      ]
    },
    {
      "cell_type": "code",
      "execution_count": null,
      "id": "e4cd5ba8-c6ec-4f0d-8787-bf0a4b7a2e22",
      "metadata": {
        "id": "e4cd5ba8-c6ec-4f0d-8787-bf0a4b7a2e22"
      },
      "outputs": [],
      "source": [
        "# Write a Python program to remove all occurrences of a specific element from a list."
      ]
    },
    {
      "cell_type": "markdown",
      "id": "caba77c7-93db-4893-8f48-c7365ed5c585",
      "metadata": {
        "id": "caba77c7-93db-4893-8f48-c7365ed5c585"
      },
      "source": [
        "**Note:**\n",
        "- All assignments must follow [PEP 8 – Style Guide for Python Code](https://peps.python.org/pep-0008/) guidelines.\n",
        "- You can add multiple solutions for each question. Create a new code cell next to the question and add it. Shortcut for creating cell : `Alt + Enter`"
      ]
    }
  ],
  "metadata": {
    "kernelspec": {
      "display_name": "Python 3 (ipykernel)",
      "language": "python",
      "name": "python3"
    },
    "language_info": {
      "codemirror_mode": {
        "name": "ipython",
        "version": 3
      },
      "file_extension": ".py",
      "mimetype": "text/x-python",
      "name": "python",
      "nbconvert_exporter": "python",
      "pygments_lexer": "ipython3",
      "version": "3.12.6"
    },
    "colab": {
      "provenance": [],
      "include_colab_link": true
    }
  },
  "nbformat": 4,
  "nbformat_minor": 5
}